{
 "cells": [
  {
   "cell_type": "code",
   "execution_count": 1,
   "id": "8c57d0b1-5f6c-4408-a1b6-ce44efa784f9",
   "metadata": {},
   "outputs": [],
   "source": [
    "import pandas as pd"
   ]
  },
  {
   "cell_type": "code",
   "execution_count": 2,
   "id": "1984a721-7015-4553-b61f-11034a0e45cd",
   "metadata": {},
   "outputs": [],
   "source": [
    "file_path = 'miami-housing.csv'\n",
    "df = pd.read_csv(file_path)"
   ]
  },
  {
   "cell_type": "code",
   "execution_count": 9,
   "id": "d7c88c29-ba60-4672-8b07-4583148bc72a",
   "metadata": {},
   "outputs": [
    {
     "name": "stdout",
     "output_type": "stream",
     "text": [
      "Struktur dataset (5 baris pertama):\n",
      "    LATITUDE  LONGITUDE      PARCELNO  SALE_PRC  LND_SQFOOT  TOT_LVG_AREA  \\\n",
      "0  25.891031 -80.160561  622280070620  440000.0        9375          1753   \n",
      "1  25.891324 -80.153968  622280100460  349000.0        9375          1715   \n",
      "2  25.891334 -80.153740  622280100470  800000.0        9375          2276   \n",
      "3  25.891765 -80.152657  622280100530  988000.0       12450          2058   \n",
      "4  25.891825 -80.154639  622280100200  755000.0       12800          1684   \n",
      "\n",
      "   SPEC_FEAT_VAL  RAIL_DIST  OCEAN_DIST  WATER_DIST  CNTR_DIST  SUBCNTR_DI  \\\n",
      "0              0     2815.9     12811.4       347.6    42815.3     37742.2   \n",
      "1              0     4359.1     10648.4       337.8    43504.9     37340.5   \n",
      "2          49206     4412.9     10574.1       297.1    43530.4     37328.7   \n",
      "3          10033     4585.0     10156.5         0.0    43797.5     37423.2   \n",
      "4          16681     4063.4     10836.8       326.6    43599.7     37550.8   \n",
      "\n",
      "   HWY_DIST  age  avno60plus  month_sold  structure_quality  \n",
      "0   15954.9   67           0           8                  4  \n",
      "1   18125.0   63           0           9                  4  \n",
      "2   18200.5   61           0           2                  4  \n",
      "3   18514.4   63           0           9                  4  \n",
      "4   17903.4   42           0           7                  4  \n"
     ]
    }
   ],
   "source": [
    "print(\"Struktur dataset (5 baris pertama):\")\n",
    "print(df.head())"
   ]
  },
  {
   "cell_type": "code",
   "execution_count": 10,
   "id": "66f92ba1-b4a2-43a9-adf5-b078ed2697cf",
   "metadata": {},
   "outputs": [
    {
     "name": "stdout",
     "output_type": "stream",
     "text": [
      "\n",
      "Nama-nama kolom dalam dataset:\n",
      "Index(['LATITUDE', 'LONGITUDE', 'PARCELNO', 'SALE_PRC', 'LND_SQFOOT',\n",
      "       'TOT_LVG_AREA', 'SPEC_FEAT_VAL', 'RAIL_DIST', 'OCEAN_DIST',\n",
      "       'WATER_DIST', 'CNTR_DIST', 'SUBCNTR_DI', 'HWY_DIST', 'age',\n",
      "       'avno60plus', 'month_sold', 'structure_quality'],\n",
      "      dtype='object')\n"
     ]
    }
   ],
   "source": [
    "print(\"\\nNama-nama kolom dalam dataset:\")\n",
    "print(df.columns)"
   ]
  },
  {
   "cell_type": "code",
   "execution_count": 11,
   "id": "7ee87ca7-7e7b-4b4c-a7b6-bcddbb1aa25e",
   "metadata": {},
   "outputs": [
    {
     "name": "stdout",
     "output_type": "stream",
     "text": [
      "\n",
      "Statistik deskriptif:\n",
      "           LATITUDE     LONGITUDE      PARCELNO      SALE_PRC    LND_SQFOOT  \\\n",
      "count  13932.000000  13932.000000  1.393200e+04  1.393200e+04  13932.000000   \n",
      "mean      25.728811    -80.327475  2.356496e+12  3.999419e+05   8620.879917   \n",
      "std        0.140633      0.089199  1.199290e+12  3.172147e+05   6070.088742   \n",
      "min       25.434333    -80.542172  1.020008e+11  7.200000e+04   1248.000000   \n",
      "25%       25.620056    -80.403278  1.079160e+12  2.350000e+05   5400.000000   \n",
      "50%       25.731810    -80.338911  3.040300e+12  3.100000e+05   7500.000000   \n",
      "75%       25.852269    -80.258019  3.060170e+12  4.280000e+05   9126.250000   \n",
      "max       25.974382    -80.119746  3.660170e+12  2.650000e+06  57064.000000   \n",
      "\n",
      "       TOT_LVG_AREA  SPEC_FEAT_VAL     RAIL_DIST    OCEAN_DIST    WATER_DIST  \\\n",
      "count  13932.000000   13932.000000  13932.000000  13932.000000  13932.000000   \n",
      "mean    2058.044574    9562.493468   8348.548715  31690.993798  11960.285235   \n",
      "std      813.538535   13890.967782   6178.027333  17595.079468  11932.992369   \n",
      "min      854.000000       0.000000     10.500000    236.100000      0.000000   \n",
      "25%     1470.000000     810.000000   3299.450000  18079.350000   2675.850000   \n",
      "50%     1877.500000    2765.500000   7106.300000  28541.750000   6922.600000   \n",
      "75%     2471.000000   12352.250000  12102.600000  44310.650000  19200.000000   \n",
      "max     6287.000000  175020.000000  29621.500000  75744.900000  50399.800000   \n",
      "\n",
      "           CNTR_DIST     SUBCNTR_DI      HWY_DIST           age    avno60plus  \\\n",
      "count   13932.000000   13932.000000  13932.000000  13932.000000  13932.000000   \n",
      "mean    68490.327132   41115.047265   7723.770693     30.669251      0.014930   \n",
      "std     32008.474808   22161.825935   6068.936108     21.153068      0.121276   \n",
      "min      3825.600000    1462.800000     90.200000      0.000000      0.000000   \n",
      "25%     42823.100000   23996.250000   2998.125000     14.000000      0.000000   \n",
      "50%     65852.400000   41109.900000   6159.750000     26.000000      0.000000   \n",
      "75%     89358.325000   53949.375000  10854.200000     46.000000      0.000000   \n",
      "max    159976.500000  110553.800000  48167.300000     96.000000      1.000000   \n",
      "\n",
      "         month_sold  structure_quality  \n",
      "count  13932.000000       13932.000000  \n",
      "mean       6.655828           3.513997  \n",
      "std        3.301523           1.097444  \n",
      "min        1.000000           1.000000  \n",
      "25%        4.000000           2.000000  \n",
      "50%        7.000000           4.000000  \n",
      "75%        9.000000           4.000000  \n",
      "max       12.000000           5.000000  \n"
     ]
    }
   ],
   "source": [
    "print(\"\\nStatistik deskriptif:\")\n",
    "print(df.describe())"
   ]
  },
  {
   "cell_type": "code",
   "execution_count": 12,
   "id": "18281d82-48d6-4fcb-af97-7d9594ce7de8",
   "metadata": {},
   "outputs": [
    {
     "name": "stdout",
     "output_type": "stream",
     "text": [
      "\n",
      "Statistik deskriptif untuk kolom 'SALE_PRC' (Harga Jual):\n",
      "count    1.393200e+04\n",
      "mean     3.999419e+05\n",
      "std      3.172147e+05\n",
      "min      7.200000e+04\n",
      "25%      2.350000e+05\n",
      "50%      3.100000e+05\n",
      "75%      4.280000e+05\n",
      "max      2.650000e+06\n",
      "Name: SALE_PRC, dtype: float64\n"
     ]
    }
   ],
   "source": [
    "print(\"\\nStatistik deskriptif untuk kolom 'SALE_PRC' (Harga Jual):\")\n",
    "print(df['SALE_PRC'].describe())"
   ]
  },
  {
   "cell_type": "code",
   "execution_count": null,
   "id": "102d4f28-52ae-4787-b41d-0ba9c6bce3fc",
   "metadata": {},
   "outputs": [],
   "source": []
  }
 ],
 "metadata": {
  "kernelspec": {
   "display_name": "Python 3 (ipykernel)",
   "language": "python",
   "name": "python3"
  },
  "language_info": {
   "codemirror_mode": {
    "name": "ipython",
    "version": 3
   },
   "file_extension": ".py",
   "mimetype": "text/x-python",
   "name": "python",
   "nbconvert_exporter": "python",
   "pygments_lexer": "ipython3",
   "version": "3.12.2"
  }
 },
 "nbformat": 4,
 "nbformat_minor": 5
}
